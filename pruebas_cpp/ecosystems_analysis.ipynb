{
 "cells": [
  {
   "cell_type": "code",
   "execution_count": null,
   "metadata": {},
   "outputs": [],
   "source": [
    "!make py"
   ]
  },
  {
   "cell_type": "code",
   "execution_count": null,
   "metadata": {},
   "outputs": [],
   "source": [
    "%matplotlib inline\n",
    "import matplotlib.pyplot as plt\n",
    "import numpy as np\n",
    "from IPython.display import clear_output\n",
    "\n",
    "import time\n",
    "import sys\n",
    "#sys.path.insert(0, '/Users/JuanLuis/git/Ecosystems/pruebas_cpp/')\n",
    "import eco\n",
    "import copy"
   ]
  },
  {
   "cell_type": "code",
   "execution_count": null,
   "metadata": {},
   "outputs": [],
   "source": [
    "start = time.time()\n",
    "e = eco.Ecosystem()\n",
    "e.initialize()\n",
    "e.create_new_organisms(eco.OrganismType.PLANT_A, 2000);\n",
    "e.create_new_organisms(eco.OrganismType.PLANT_B, 2000);\n",
    "e.create_new_organisms(eco.OrganismType.HERBIVORE, 200);\n",
    "#e.create_new_organisms(eco.OrganismType.CARNIVORE, 200);\n",
    "print(\"init time: {:.2f}ms\".format(1000 * (time.time() - start)))"
   ]
  },
  {
   "cell_type": "code",
   "execution_count": null,
   "metadata": {
    "scrolled": false
   },
   "outputs": [],
   "source": [
    "num_iters = 1000000\n",
    "num_organisms = []\n",
    "periodic_plot = 5\n",
    "import tqdm\n",
    "e.create_new_organisms(eco.OrganismType.PLANT_A, 100);\n",
    "e.create_new_organisms(eco.OrganismType.PLANT_B, 100);\n",
    "e.create_new_organisms(eco.OrganismType.HERBIVORE, 10);\n",
    "e.create_new_organisms(eco.OrganismType.CARNIVORE, 10);\n",
    "\n",
    "for i in tqdm.tqdm(range(num_iters)):\n",
    "    start = time.time()\n",
    "    try:\n",
    "        e.evolve()\n",
    "    except KeyboardInterrupt:\n",
    "        break\n",
    "    num_organisms.append(e.get_num_organisms())\n",
    "    #e.create_new_organisms(eco.OrganismType.HERBIVORE, 10);\n",
    "    if i % periodic_plot == 0:\n",
    "        e.create_new_organisms(eco.OrganismType.HERBIVORE, 1);\n",
    "        e.create_new_organisms(eco.OrganismType.CARNIVORE, 1);\n",
    "        e.create_new_organisms(eco.OrganismType.PLANT_B, 1);\n",
    "        e.create_new_organisms(eco.OrganismType.PLANT_A, 1);\n",
    "        #e.keep_number_of_organisms_above(eco.OrganismType.PLANT_A, 10)\n",
    "        #e.keep_number_of_organisms_above(eco.OrganismType.PLANT_B, 10)\n",
    "        #e.keep_number_of_organisms_above(eco.OrganismType.HERBIVORE, 10)\n",
    "        #e.keep_number_of_organisms_above(eco.OrganismType.CARNIVORE, 10)\n",
    "        m_sl = np.array(eco.Matrix(e,\n",
    "                                  eco.BiotopeAttribute.SUN_LIGHT),\n",
    "                     copy=False) * 10.0\n",
    "        m_te = np.array(eco.Matrix(e,\n",
    "                                  eco.BiotopeAttribute.TEMPERATURE),\n",
    "                     copy=False) * 10.0\n",
    "\n",
    "        m_aa = np.array(eco.Matrix(e,\n",
    "                                  eco.OrganismAttribute.ENERGY_RESERVE,\n",
    "                                  eco.OrganismType.PLANT_A),\n",
    "                     copy=False) * 10.0\n",
    "        m_ab = np.array(eco.Matrix(e,\n",
    "                                  eco.OrganismAttribute.ENERGY_RESERVE,\n",
    "                                  eco.OrganismType.PLANT_B),\n",
    "                     copy=False)\n",
    "        m_a = m_aa + m_ab\n",
    "        m_b = np.array(eco.Matrix(e,\n",
    "                                  eco.OrganismAttribute.ENERGY_RESERVE,\n",
    "                                  eco.OrganismType.HERBIVORE),\n",
    "                     copy=False)\n",
    "        m_c = np.array(eco.Matrix(e,\n",
    "                                  eco.OrganismAttribute.ENERGY_RESERVE,\n",
    "                                  eco.OrganismType.CARNIVORE),\n",
    "                     copy=False)\n",
    "        m_c += m_ab\n",
    "        m_b += m_c + m_aa * 0.01\n",
    "        #m_b += m_ab\n",
    "        image = np.zeros((m_a.shape[0], m_a.shape[1], 3))\n",
    "        image[:, :, 0] = m_c.T / 1500.0 + m_te.T / 2000.0 # r\n",
    "        image[:, :, 1] = m_a.T / 35000.0 + m_sl.T / 2000.0 # g\n",
    "        image[:, :, 2] = m_b.T / 600.0 + m_sl.T / 2000.0 # b\n",
    "        plt.figure(figsize=(10, 10))\n",
    "        plt.imshow(image[:, :, :], interpolation='None', vmin=0.0, vmax=1.0)\n",
    "        #if i % (10 * periodic_plot) == 0:\n",
    "        #    plt.figure()\n",
    "        #    plt.plot(num_organisms, 'b')\n",
    "        #    plt.grid()\n",
    "        #    plt.xlabel('Cycle')\n",
    "        #    plt.ylabel('Num organisms')\n",
    "        #    plt.show()       \n",
    "        clear_output(wait=True)\n",
    "        plt.show()\n"
   ]
  },
  {
   "cell_type": "code",
   "execution_count": null,
   "metadata": {},
   "outputs": [],
   "source": [
    "!pip install tqdm"
   ]
  },
  {
   "cell_type": "code",
   "execution_count": null,
   "metadata": {},
   "outputs": [],
   "source": [
    "m_sl"
   ]
  },
  {
   "cell_type": "code",
   "execution_count": null,
   "metadata": {},
   "outputs": [],
   "source": []
  }
 ],
 "metadata": {
  "kernelspec": {
   "display_name": "Python 2",
   "language": "python",
   "name": "python2"
  },
  "language_info": {
   "codemirror_mode": {
    "name": "ipython",
    "version": 2
   },
   "file_extension": ".py",
   "mimetype": "text/x-python",
   "name": "python",
   "nbconvert_exporter": "python",
   "pygments_lexer": "ipython2",
   "version": "2.7.16"
  }
 },
 "nbformat": 4,
 "nbformat_minor": 2
}
